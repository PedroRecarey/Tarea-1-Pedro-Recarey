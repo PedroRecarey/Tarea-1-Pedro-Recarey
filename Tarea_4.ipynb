{
  "nbformat": 4,
  "nbformat_minor": 0,
  "metadata": {
    "colab": {
      "provenance": []
    },
    "kernelspec": {
      "name": "python3",
      "display_name": "Python 3"
    },
    "language_info": {
      "name": "python"
    }
  },
  "cells": [
    {
      "cell_type": "markdown",
      "source": [
        "#Ejercicio 4.1\n"
      ],
      "metadata": {
        "id": "VdoJpdYppKpz"
      }
    },
    {
      "cell_type": "markdown",
      "source": [
        "Escriba una función que calcule el área de un círculo. Luego calcule las áreas de 100 círculos con radios entre  1  y  10  y grafíque el resultado.\n",
        "\n"
      ],
      "metadata": {
        "id": "uE2W1sU9pfHv"
      }
    },
    {
      "cell_type": "code",
      "source": [
        "import numpy as np\n",
        "import matplotlib.pyplot as plt\n",
        "\n",
        "def area_circulo(radio): # se crea una funcion que dependa de la varible llamada radio \n",
        "  area = np.pi*radio**2 # se crea la variable area, donde contiene la formula del area de un circulo \n",
        "  return area #ocupamos return para que al colocar un valor a la variable radio nos arroje el resultado del area\n",
        "\n",
        "radios= np.linspace(1,10,100) # se difinió un array que contenga 100 radios entre los valores 1 y 10 \n",
        "area_final = [] \n",
        "for r_circulos in radios:\n",
        "  area_final.append(area_circulo(r_circulos)) #se crea un ciclo for para hacer que los valores en radios se apliquen en la funcion y luego esos\n",
        "                                              # valores se agregan al array area_final\n",
        "\n",
        "plt.xlabel('Radios')   \n",
        "plt.ylabel('Area de los circulos')\n",
        "plt.title('Area vs Radios')\n",
        "plt.plot(area_final)  #finalmente se agregan nombres a los ejes y al titulo del grafico y pedimos que nos arroje lo hecho.  \n"
      ],
      "metadata": {
        "colab": {
          "base_uri": "https://localhost:8080/",
          "height": 312
        },
        "id": "Qk8gaq4OpaZZ",
        "outputId": "d371f6cf-a090-4ab6-dd05-686b3b695971"
      },
      "execution_count": 102,
      "outputs": [
        {
          "output_type": "execute_result",
          "data": {
            "text/plain": [
              "[<matplotlib.lines.Line2D at 0x7fd8783438d0>]"
            ]
          },
          "metadata": {},
          "execution_count": 102
        },
        {
          "output_type": "display_data",
          "data": {
            "text/plain": [
              "<Figure size 432x288 with 1 Axes>"
            ],
            "image/png": "[encoded data removed]"
          },
          "metadata": {
            "needs_background": "light"
          }
        }
      ]
    },
    {
      "cell_type": "code",
      "source": [],
      "metadata": {
        "id": "ErnnHzF0rmzS"
      },
      "execution_count": null,
      "outputs": []
    }
  ]
}