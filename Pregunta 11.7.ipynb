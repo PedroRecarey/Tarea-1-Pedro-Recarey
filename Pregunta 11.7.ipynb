{
 "cells": [
  {
   "cell_type": "markdown",
   "metadata": {},
   "source": [
    "# Pregunta 11.7"
   ]
  },
  {
   "cell_type": "markdown",
   "metadata": {},
   "source": [
    "Escriba un código que implemente el método de Adams-Bashforth de dos pasos. Úselo para resolver el siguiente problema\n",
    "\n",
    "$$\n",
    "y'(t) = 1 + \\frac{y}{t} + \\left(\\frac{y}{t}\\right)^2\\,,\\quad 1 \\leq t \\leq 1.5\\,,\\quad y(1) = 0\\,.\n",
    "$$\n",
    "\n",
    "Para ser consistente con el orden, los primeros pasos deberían ser dados por un Runge-Kutta de orden 2."
   ]
  },
  {
   "cell_type": "markdown",
   "metadata": {},
   "source": [
    "### Solucion"
   ]
  },
  {
   "cell_type": "code",
   "execution_count": 2,
   "metadata": {},
   "outputs": [],
   "source": [
    "import numpy as np\n",
    "import matplotlib.pyplot as plt"
   ]
  },
  {
   "cell_type": "markdown",
   "metadata": {},
   "source": [
    "El metodo de **Adam-Bashforth** consiste en la siguiente aproximacion a la solucion a una ecuacion diferencial:\n",
    "\n",
    "La solución exacta a la ecuación diferencial está dada formalmente por\n",
    "\n",
    "$$\n",
    "y(t_{i+1}) = y(t_i) + \\int_{t_i}^{t_{i+1}}dt\\,P_{m-1}(t) + \\frac{1}{m!}f^{(m)}(\\mu, y(\\mu))\\int_{t_i}^{t_{i+1}}dt\\,(t - t_i)...(t - t_{i+1-m})\\,,\n",
    "$$\n",
    "\n",
    "Donde $P$ son los polinomios de Lagrande. Como se vio en clases si ocupamos hasta el 2do punto:\n",
    "$$\n",
    "P_2(t) = \\frac{(t - t_i)}{(t_{i - 1} - t_i)}f(t_{i-1}, y(t_{i-1})) + \\frac{(t - t_{i-1})}{(t_{i} - t_{i - 1})}f(t_{i}, y(t_{i})) = - s f(t_i - h, y(t_i - h)) + (s + 1)f(t_i, y(t_i))\n",
    "$$\n",
    "\n",
    "Con $t=t_i+sh$.\n",
    "\n",
    "$$\n",
    "y(t_{i+1}) = y(t_i) + h\\int_0^1ds\\,\\left[-s f(t_{i-1}, y(t_{i-1})) + (s + 1)f(t_i, y(t_i))\\right] + \\frac{h^3}{m!}f^{(m)}(\\mu, y(\\mu))\\int_{0}^{1}ds\\,s(s+1)\\,,\n",
    "$$\n",
    "\n",
    "$$\n",
    "y(t_{i+1}) = y(t_i) + h\\left[-\\frac{1}{2} f(t_{i-1}, y(t_{i-1}))+\\frac{3}{2}f(t_i, y(t_i))\\right] + \\frac{5h^3}{12}f^{(2)}(\\mu, y(\\mu))\\,,\n",
    "$$\n",
    "\n",
    "Ahora implementando este algoritmo en una funcion. En este caso necesitamos solo una condicion inicial, la cual puede obtener con el metodo de **Runge-Kutta** de orden 2."
   ]
  },
  {
   "cell_type": "code",
   "execution_count": 37,
   "metadata": {},
   "outputs": [
    {
     "data": {
      "image/png": "[encoded data removed]",
      "text/plain": [
       "<Figure size 576x360 with 1 Axes>"
      ]
     },
     "metadata": {
      "needs_background": "light"
     },
     "output_type": "display_data"
    }
   ],
   "source": [
    "def rk2_step(f, fi, t, w, h):\n",
    "    return h*f(t + h/2, w + h/2*fi)\n",
    "\n",
    "def adam_bashforth2(df,a,b,y0,N):\n",
    "    h = (b-a)/N\n",
    "    t,w = a,y0\n",
    "    ws,ts = [],[]\n",
    "    f1,f2 = 0,0\n",
    "    for i in range(N+1):\n",
    "        ws.append(w)\n",
    "        ts.append(t)\n",
    "        f1 = f2\n",
    "        f2 = f(t,w)\n",
    "        if i<1:\n",
    "            w+= rk2_step(f,f2,t,w,h)\n",
    "        else:\n",
    "            w+= (h*(-0.5*f1 + 3/2*f2))\n",
    "        t+=h\n",
    "    return np.array([ts,ws])\n",
    "\n",
    "def f(t, y):\n",
    "    return 1 + (y/t) + (y/t)**2\n",
    "\n",
    "a = 1\n",
    "b = 1.5\n",
    "y0 = 0\n",
    "N = 20\n",
    "\n",
    "solve = adam_bashforth2(f, a, b, y0, N)\n",
    "\n",
    "t,w = solve\n",
    "\n",
    "fig = plt.figure(figsize=(8,5))\n",
    "\n",
    "plt.plot(t,w)\n",
    "plt.title(\"Solucion Ecuacion con Adam-Bashforth de dos puntos\")\n",
    "plt.xlabel(\"t\"),plt.ylabel(\"y(t)\")\n",
    "plt.grid(True)"
   ]
  },
  {
   "attachments": {},
   "cell_type": "markdown",
   "metadata": {},
   "source": [
    "# Calificación: 7.0"
   ]
  },
  {
   "cell_type": "markdown",
   "metadata": {},
   "source": []
  }
 ],
 "metadata": {
  "kernelspec": {
   "display_name": "Python 3",
   "language": "python",
   "name": "python3"
  },
  "language_info": {
   "codemirror_mode": {
    "name": "ipython",
    "version": 3
   },
   "file_extension": ".py",
   "mimetype": "text/x-python",
   "name": "python",
   "nbconvert_exporter": "python",
   "pygments_lexer": "ipython3",
   "version": "3.8.3"
  },
  "toc": {
   "base_numbering": 1,
   "nav_menu": {},
   "number_sections": true,
   "sideBar": true,
   "skip_h1_title": false,
   "title_cell": "Table of Contents",
   "title_sidebar": "Contents",
   "toc_cell": false,
   "toc_position": {},
   "toc_section_display": true,
   "toc_window_display": false
  }
 },
 "nbformat": 4,
 "nbformat_minor": 4
}
