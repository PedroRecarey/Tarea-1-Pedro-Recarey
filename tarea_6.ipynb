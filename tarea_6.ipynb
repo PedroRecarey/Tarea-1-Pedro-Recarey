{
  "nbformat": 4,
  "nbformat_minor": 0,
  "metadata": {
    "colab": {
      "provenance": []
    },
    "kernelspec": {
      "name": "python3",
      "display_name": "Python 3"
    },
    "language_info": {
      "name": "python"
    }
  },
  "cells": [
    {
      "cell_type": "markdown",
      "source": [
        "#ejercicio 6.7 \n",
        "\n",
        "\n",
        "Encuentre un cero de la función\n",
        "\n",
        "$$\n",
        "f(x) = 1 - \\cos(x) -\\frac{\\sin(x)}{x}\n",
        "$$\n",
        "\n",
        "entre $-6.4$ y $-6.0$ usando el método de iteración de punto fijo con un error relativo de $0.001$. Verifique que su función $g$ satisface las condiciones necesarias para la convergencia del método."
      ],
      "metadata": {
        "id": "Syh3MVZ3x73X"
      }
    },
    {
      "cell_type": "markdown",
      "source": [
        "##Desarrollo\n",
        "\n"
      ],
      "metadata": {
        "id": "0CMGJWI0FGYQ"
      }
    },
    {
      "cell_type": "markdown",
      "source": [
        "Primero se hace que, $0=x-g(x)$ y luego se evaluan los extremos del intervalo $[-6.4,-6,0]$ en $g(x)$ para llegar a una de las condiciones vistas en clase: \n",
        "- $g(a)=a$ o $g(b)=b$\n",
        "\n",
        "o \n",
        "\n",
        "- $g(a)>a$ y $g(b)<b$"
      ],
      "metadata": {
        "id": "sUfSLi4KAoMz"
      }
    },
    {
      "cell_type": "markdown",
      "source": [
        "La ecuacion quedaria en este caso como: \n",
        "$ \n",
        "0=x-1+\\cos(x)+ \\frac{sen(x)}{x}\n",
        "$\n",
        "\n"
      ],
      "metadata": {
        "id": "fwVxDfLUDOY3"
      }
    },
    {
      "cell_type": "code",
      "source": [
        "import numpy as np\n",
        "\n",
        "def g(x): \n",
        "  '''\n",
        "  se define la funcion g(x) para poder trabajar con ella\n",
        "  '''\n",
        "  return x-1+np.cos(x)+np.sin(x)/x \n",
        "\n"
      ],
      "metadata": {
        "id": "3hHqsfUFym7S"
      },
      "execution_count": 81,
      "outputs": []
    },
    {
      "cell_type": "markdown",
      "source": [
        "Evaluamos la funcion en los extremos del intervalo. "
      ],
      "metadata": {
        "id": "GLs-1AnxErth"
      }
    },
    {
      "cell_type": "code",
      "source": [
        "g(-6.4) # g(a) > a"
      ],
      "metadata": {
        "colab": {
          "base_uri": "https://localhost:8080/"
        },
        "id": "1lsQ8PzsXiqC",
        "outputId": "5ba02d2a-f46c-4e73-d15e-3b6ba9ab606b"
      },
      "execution_count": 82,
      "outputs": [
        {
          "output_type": "execute_result",
          "data": {
            "text/plain": [
              "-6.388604267983919"
            ]
          },
          "metadata": {},
          "execution_count": 82
        }
      ]
    },
    {
      "cell_type": "code",
      "source": [
        "g(-6.0) # g(b) < b "
      ],
      "metadata": {
        "colab": {
          "base_uri": "https://localhost:8080/"
        },
        "id": "1RQWCi1FXtDl",
        "outputId": "bad92a6d-8c58-45bc-c676-b3d108157e1a"
      },
      "execution_count": 83,
      "outputs": [
        {
          "output_type": "execute_result",
          "data": {
            "text/plain": [
              "-6.086398963049454"
            ]
          },
          "metadata": {},
          "execution_count": 83
        }
      ]
    },
    {
      "cell_type": "markdown",
      "source": [
        "Viendo los resultados, se tiene que hay una funcion $h(x)= x-g(x)$ \n",
        "\n",
        "Se usara el mismo codigo expuesto en la clase 12."
      ],
      "metadata": {
        "id": "bn8OVPlPGSzh"
      }
    },
    {
      "cell_type": "code",
      "execution_count": 84,
      "metadata": {
        "id": "oZaiDcAYxuMX"
      },
      "outputs": [],
      "source": [
        "class MaxIterations(Exception):\n",
        "  pass"
      ]
    },
    {
      "cell_type": "code",
      "source": [
        "def iter_func(g, po, epsilon, N=1000000):\n",
        "    \n",
        "    for i in range(N):\n",
        "        p = g(po)\n",
        "        if abs(p - po)/abs(po) < epsilon:\n",
        "            return p,i\n",
        "            \n",
        "        else:\n",
        "            po = p\n",
        "    \n",
        "    raise MaxIterations(\"No se encontró el punto fijo luego de\", N, \"iteraciones.\")\n",
        "     "
      ],
      "metadata": {
        "id": "SZ9mBrUA9UWl"
      },
      "execution_count": 85,
      "outputs": []
    },
    {
      "cell_type": "code",
      "source": [
        "iter_func(g,-6.4,0.001)"
      ],
      "metadata": {
        "colab": {
          "base_uri": "https://localhost:8080/"
        },
        "id": "emye5UND0gOl",
        "outputId": "8a44939d-12f2-4ccf-860c-5bf668294b83"
      },
      "execution_count": 86,
      "outputs": [
        {
          "output_type": "execute_result",
          "data": {
            "text/plain": [
              "(-6.320629972410361, 8)"
            ]
          },
          "metadata": {},
          "execution_count": 86
        }
      ]
    },
    {
      "cell_type": "markdown",
      "source": [
        "El resultado obtenido es el punto p y la cantidad de iteraciones dadas. \n",
        "luego evaluamos el punto en $g(x)$ y se debe llegar a que $p=g(p)$\n",
        "\n"
      ],
      "metadata": {
        "id": "MD6EFZxXJaVq"
      }
    },
    {
      "cell_type": "code",
      "source": [
        "g(-6.3) # el resultado es casi -6.3 "
      ],
      "metadata": {
        "colab": {
          "base_uri": "https://localhost:8080/"
        },
        "id": "7u6jb6Lu1CFa",
        "outputId": "d32477c4-1b1e-46ca-ecfb-66d27b859741"
      },
      "execution_count": 87,
      "outputs": [
        {
          "output_type": "execute_result",
          "data": {
            "text/plain": [
              "-6.297472490523831"
            ]
          },
          "metadata": {},
          "execution_count": 87
        }
      ]
    },
    {
      "cell_type": "code",
      "source": [
        "def f(x):\n",
        "  '''\n",
        "  defino f(x) igual a la funcion original para poder evaluar el punto resultante y\n",
        "   asi poder ver si la funcion es 0 en ese punto. \n",
        "  '''\n",
        "  return 1-np.cos(x)-np.sin(x)/x"
      ],
      "metadata": {
        "id": "sfhXDsEN7J7O"
      },
      "execution_count": 88,
      "outputs": []
    },
    {
      "cell_type": "code",
      "source": [
        "f(-6.3)"
      ],
      "metadata": {
        "colab": {
          "base_uri": "https://localhost:8080/"
        },
        "id": "UCaE64VjRNU-",
        "outputId": "9c14c931-3c5e-4e05-ce9d-72d0f606aa47"
      },
      "execution_count": 89,
      "outputs": [
        {
          "output_type": "execute_result",
          "data": {
            "text/plain": [
              "-0.002527509476169023"
            ]
          },
          "metadata": {},
          "execution_count": 89
        }
      ]
    },
    {
      "cell_type": "markdown",
      "source": [
        "Se ve que el valor resultante cuando se evalua p en f(x) es muy cercano a 0. "
      ],
      "metadata": {
        "id": "zgPkBKOCSaIn"
      }
    }
  ]
}