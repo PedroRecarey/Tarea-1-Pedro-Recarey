{
  "cells": [
    {
      "cell_type": "markdown",
      "metadata": {
        "id": "Syh3MVZ3x73X"
      },
      "source": [
        "#ejercicio 6.7 \n",
        "\n",
        "\n",
        "Encuentre un cero de la función\n",
        "\n",
        "$$\n",
        "f(x) = 1 - \\cos(x) -\\frac{\\sin(x)}{x}\n",
        "$$\n",
        "\n",
        "entre $-6.4$ y $-6.0$ usando el método de iteración de punto fijo con un error relativo de $0.001$. Verifique que su función $g$ satisface las condiciones necesarias para la convergencia del método."
      ]
    },
    {
      "cell_type": "markdown",
      "metadata": {
        "id": "0CMGJWI0FGYQ"
      },
      "source": [
        "##Desarrollo\n",
        "\n"
      ]
    },
    {
      "cell_type": "markdown",
      "metadata": {
        "id": "sUfSLi4KAoMz"
      },
      "source": [
        "Primero se hace que, $0=x-g(x)$ y luego se evaluan los extremos del intervalo $[-6.4,-6,0]$ en $g(x)$ para llegar a una de las condiciones vistas en clase: \n",
        "- $g(a)=a$ o $g(b)=b$\n",
        "\n",
        "o \n",
        "\n",
        "- $g(a)>a$ y $g(b)<b$"
      ]
    },
    {
      "cell_type": "markdown",
      "metadata": {
        "id": "fwVxDfLUDOY3"
      },
      "source": [
        "La ecuacion quedaria en este caso como: \n",
        "$ \n",
        "0=x-1+\\cos(x)+ \\frac{sen(x)}{x}\n",
        "$\n",
        "\n"
      ]
    },
    {
      "cell_type": "code",
      "execution_count": 81,
      "metadata": {
        "id": "3hHqsfUFym7S"
      },
      "outputs": [],
      "source": [
        "import numpy as np\n",
        "\n",
        "def g(x): \n",
        "  '''\n",
        "  se define la funcion g(x) para poder trabajar con ella\n",
        "  '''\n",
        "  return x-1+np.cos(x)+np.sin(x)/x \n",
        "\n"
      ]
    },
    {
      "cell_type": "markdown",
      "metadata": {
        "id": "GLs-1AnxErth"
      },
      "source": [
        "Evaluamos la funcion en los extremos del intervalo. "
      ]
    },
    {
      "cell_type": "code",
      "execution_count": 82,
      "metadata": {
        "colab": {
          "base_uri": "https://localhost:8080/"
        },
        "id": "1lsQ8PzsXiqC",
        "outputId": "5ba02d2a-f46c-4e73-d15e-3b6ba9ab606b"
      },
      "outputs": [
        {
          "data": {
            "text/plain": [
              "-6.388604267983919"
            ]
          },
          "execution_count": 82,
          "metadata": {},
          "output_type": "execute_result"
        }
      ],
      "source": [
        "g(-6.4) # g(a) > a"
      ]
    },
    {
      "cell_type": "code",
      "execution_count": 83,
      "metadata": {
        "colab": {
          "base_uri": "https://localhost:8080/"
        },
        "id": "1RQWCi1FXtDl",
        "outputId": "bad92a6d-8c58-45bc-c676-b3d108157e1a"
      },
      "outputs": [
        {
          "data": {
            "text/plain": [
              "-6.086398963049454"
            ]
          },
          "execution_count": 83,
          "metadata": {},
          "output_type": "execute_result"
        }
      ],
      "source": [
        "g(-6.0) # g(b) < b "
      ]
    },
    {
      "cell_type": "markdown",
      "metadata": {
        "id": "bn8OVPlPGSzh"
      },
      "source": [
        "Viendo los resultados, se tiene que hay una funcion $h(x)= x-g(x)$ \n",
        "\n",
        "Se usara el mismo codigo expuesto en la clase 12."
      ]
    },
    {
      "cell_type": "code",
      "execution_count": 84,
      "metadata": {
        "id": "oZaiDcAYxuMX"
      },
      "outputs": [],
      "source": [
        "class MaxIterations(Exception):\n",
        "  pass"
      ]
    },
    {
      "cell_type": "code",
      "execution_count": 85,
      "metadata": {
        "id": "SZ9mBrUA9UWl"
      },
      "outputs": [],
      "source": [
        "def iter_func(g, po, epsilon, N=1000000):\n",
        "    \n",
        "    for i in range(N):\n",
        "        p = g(po)\n",
        "        if abs(p - po)/abs(po) < epsilon:\n",
        "            return p,i\n",
        "            \n",
        "        else:\n",
        "            po = p\n",
        "    \n",
        "    raise MaxIterations(\"No se encontró el punto fijo luego de\", N, \"iteraciones.\")\n",
        "     "
      ]
    },
    {
      "cell_type": "code",
      "execution_count": 86,
      "metadata": {
        "colab": {
          "base_uri": "https://localhost:8080/"
        },
        "id": "emye5UND0gOl",
        "outputId": "8a44939d-12f2-4ccf-860c-5bf668294b83"
      },
      "outputs": [
        {
          "data": {
            "text/plain": [
              "(-6.320629972410361, 8)"
            ]
          },
          "execution_count": 86,
          "metadata": {},
          "output_type": "execute_result"
        }
      ],
      "source": [
        "iter_func(g,-6.4,0.001)"
      ]
    },
    {
      "cell_type": "markdown",
      "metadata": {
        "id": "MD6EFZxXJaVq"
      },
      "source": [
        "El resultado obtenido es el punto p y la cantidad de iteraciones dadas. \n",
        "luego evaluamos el punto en $g(x)$ y se debe llegar a que $p=g(p)$\n",
        "\n"
      ]
    },
    {
      "cell_type": "code",
      "execution_count": 87,
      "metadata": {
        "colab": {
          "base_uri": "https://localhost:8080/"
        },
        "id": "7u6jb6Lu1CFa",
        "outputId": "d32477c4-1b1e-46ca-ecfb-66d27b859741"
      },
      "outputs": [
        {
          "data": {
            "text/plain": [
              "-6.297472490523831"
            ]
          },
          "execution_count": 87,
          "metadata": {},
          "output_type": "execute_result"
        }
      ],
      "source": [
        "g(-6.3) # el resultado es casi -6.3 "
      ]
    },
    {
      "cell_type": "code",
      "execution_count": 88,
      "metadata": {
        "id": "sfhXDsEN7J7O"
      },
      "outputs": [],
      "source": [
        "def f(x):\n",
        "  '''\n",
        "  defino f(x) igual a la funcion original para poder evaluar el punto resultante y\n",
        "   asi poder ver si la funcion es 0 en ese punto. \n",
        "  '''\n",
        "  return 1-np.cos(x)-np.sin(x)/x"
      ]
    },
    {
      "cell_type": "code",
      "execution_count": 89,
      "metadata": {
        "colab": {
          "base_uri": "https://localhost:8080/"
        },
        "id": "UCaE64VjRNU-",
        "outputId": "9c14c931-3c5e-4e05-ce9d-72d0f606aa47"
      },
      "outputs": [
        {
          "data": {
            "text/plain": [
              "-0.002527509476169023"
            ]
          },
          "execution_count": 89,
          "metadata": {},
          "output_type": "execute_result"
        }
      ],
      "source": [
        "f(-6.3)"
      ]
    },
    {
      "cell_type": "markdown",
      "metadata": {
        "id": "zgPkBKOCSaIn"
      },
      "source": [
        "Se ve que el valor resultante cuando se evalua p en f(x) es muy cercano a 0. "
      ]
    },
    {
      "cell_type": "markdown",
      "metadata": {},
      "source": [
        "# Calificación: 5.5"
      ]
    },
    {
      "cell_type": "markdown",
      "metadata": {},
      "source": [
        "Faltó verificar que la función usada cumple las condiciones para el teorema de la convergencia del método de punto fijo (como se pedía)."
      ]
    },
    {
      "cell_type": "markdown",
      "metadata": {},
      "source": []
    }
  ],
  "metadata": {
    "colab": {
      "provenance": []
    },
    "kernelspec": {
      "display_name": "Python 3",
      "language": "python",
      "name": "python3"
    },
    "language_info": {
      "name": "python",
      "version": "3.10.6 (main, Nov  2 2022, 18:53:38) [GCC 11.3.0]"
    },
    "vscode": {
      "interpreter": {
        "hash": "916dbcbb3f70747c44a77c7bcd40155683ae19c65e1c03b4aa3499c5328201f1"
      }
    }
  },
  "nbformat": 4,
  "nbformat_minor": 0
}
