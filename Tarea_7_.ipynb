{
  "cells": [
    {
      "cell_type": "markdown",
      "metadata": {
        "id": "SQwh_d18tD-4"
      },
      "source": [
        "##Tarea 7\n"
      ]
    },
    {
      "cell_type": "markdown",
      "metadata": {
        "id": "kihYx3KHkiih"
      },
      "source": [
        "Encuentre un cero de la función\n",
        "\n",
        "$$\n",
        "f(x) = 1 - \\cos(x) -\\frac{\\sin(x)}{x}\n",
        "$$\n",
        "\n",
        "entre $-6.4$ y $-6.0$ usando el método de Newton y el método de bisección. Grafique el número de iteraciones requerido así como el tiempo requerido en función de la precisión para ambos métodos."
      ]
    },
    {
      "cell_type": "markdown",
      "metadata": {
        "id": "zP5LZLJ3v5zX"
      },
      "source": [
        "#Desarrollo"
      ]
    },
    {
      "cell_type": "markdown",
      "metadata": {
        "id": "oZ-kZSJqu0uH"
      },
      "source": [
        "Usare el mismo codigo que en la clase 12 para hacer el metodo de biseccion. \n",
        "El metodo se trata en encontrar un $a$ < $b$ tal que $f(a)f(b) < 0$. En este caso $a= -6.4$ y $b= -6.0$, luego los evaluamos en la funcion dada y vemos si lo escrito antes sucede. "
      ]
    },
    {
      "cell_type": "markdown",
      "metadata": {
        "id": "42VJwKUwwLim"
      },
      "source": [
        "despues se  encuentra un punto p tal que  $p = a + \\frac{a - b}{2}$. Luego vemos si $f(p_1) = 0$"
      ]
    },
    {
      "cell_type": "code",
      "execution_count": 117,
      "metadata": {
        "id": "JdiX1sN_uW0O"
      },
      "outputs": [],
      "source": [
        "import matplotlib.pyplot as plt\n",
        "import numpy as np "
      ]
    },
    {
      "cell_type": "code",
      "execution_count": 118,
      "metadata": {
        "id": "STWZIDOWkiiV"
      },
      "outputs": [],
      "source": [
        "def biseccion(f, a, b, epsilon, N=1000000):\n",
        "    \n",
        "    pp = a\n",
        "    for i in range(N):\n",
        "        p = a + (b - a)/2\n",
        "        if abs(pp - p)/abs(p) < epsilon:\n",
        "            return p, i+1\n",
        "        elif f(p)*f(a) > 0:\n",
        "            a = p\n",
        "        else:\n",
        "            b = p\n",
        "        pp = p\n",
        "        \n",
        "    raise MaxIterations(\"No se encontró el cero luego de\", N, \"iteraciones.\")"
      ]
    },
    {
      "cell_type": "code",
      "execution_count": 119,
      "metadata": {
        "id": "CJ_rRfJ2r9vT"
      },
      "outputs": [],
      "source": [
        "def funcion(x):\n",
        "    return 1- np.cos(x) - np.sin(x)/x \n",
        "  "
      ]
    },
    {
      "cell_type": "code",
      "execution_count": 120,
      "metadata": {
        "colab": {
          "base_uri": "https://localhost:8080/"
        },
        "id": "P75xb56jukbo",
        "outputId": "0430f6bf-1ece-4195-d212-4c612e976338"
      },
      "outputs": [
        {
          "data": {
            "text/plain": [
              "True"
            ]
          },
          "execution_count": 120,
          "metadata": {},
          "output_type": "execute_result"
        }
      ],
      "source": [
        "funcion(-6.4)*funcion(-6.0) <0 # se cumple con lo descrito"
      ]
    },
    {
      "cell_type": "code",
      "execution_count": 131,
      "metadata": {
        "colab": {
          "base_uri": "https://localhost:8080/"
        },
        "id": "NIeKiGPjumv3",
        "outputId": "d9ab437f-ff72-4981-aae6-58eeacb532a9"
      },
      "outputs": [
        {
          "data": {
            "text/plain": [
              "(-6.283203125, 10)"
            ]
          },
          "execution_count": 131,
          "metadata": {},
          "output_type": "execute_result"
        }
      ],
      "source": [
        "biseccion(funcion,-6.4,-6.0,0.0001 ) #ocupamos la funcion con los parametros dados"
      ]
    },
    {
      "cell_type": "markdown",
      "metadata": {
        "id": "QQeLnc-60_7P"
      },
      "source": [
        "Ahora ocupamos el metodo de newton, se ocupara el codigo visto en la clase 13 "
      ]
    },
    {
      "cell_type": "code",
      "execution_count": 122,
      "metadata": {
        "id": "lHx7hTiPkiiU"
      },
      "outputs": [],
      "source": [
        "class MaxIterations(Exception):\n",
        "    pass"
      ]
    },
    {
      "cell_type": "code",
      "execution_count": 123,
      "metadata": {
        "id": "nXua2UkvkiiU"
      },
      "outputs": [],
      "source": [
        "def metod_newton(funcion, derivada_f, punto, epsilon, N=1000000):\n",
        "    \n",
        "    for i in range(N):\n",
        "        p = punto - f(punto)/derivada_f(punto)\n",
        "        if abs(p - punto)/abs(p) < epsilon:\n",
        "            return p, i+1\n",
        "        punto = p\n",
        "    \n",
        "    raise MaxIterations(\"No se encontró el cero luego de\", N, \"iteraciones.\")"
      ]
    },
    {
      "cell_type": "code",
      "execution_count": 124,
      "metadata": {
        "id": "x4l2exA61uEH"
      },
      "outputs": [],
      "source": [
        "def f(x):\n",
        "  return 1-np.cos(x)-np.sin(x)/x"
      ]
    },
    {
      "cell_type": "code",
      "execution_count": 125,
      "metadata": {
        "id": "qmYaU9mu2Fff"
      },
      "outputs": [],
      "source": [
        "def derivada_f(x):\n",
        "  return np.sin(x)- (x*np.cos(x)-np.sin(x))/x**2\n"
      ]
    },
    {
      "cell_type": "code",
      "execution_count": 132,
      "metadata": {
        "colab": {
          "base_uri": "https://localhost:8080/",
          "height": 283
        },
        "id": "ut14TXEIAOCo",
        "outputId": "20ef9ca9-f89e-424b-a8d5-b724c4863c9c"
      },
      "outputs": [
        {
          "data": {
            "text/plain": [
              "[<matplotlib.lines.Line2D at 0x7ff429f51090>]"
            ]
          },
          "execution_count": 132,
          "metadata": {},
          "output_type": "execute_result"
        },
        {
          "data": {
            "image/png": "[encoded data removed]",
            "text/plain": [
              "<Figure size 432x288 with 1 Axes>"
            ]
          },
          "metadata": {
            "needs_background": "light"
          },
          "output_type": "display_data"
        }
      ],
      "source": [
        "x= np.linspace(-6.4,-6,100) #grafico de la funcion para poder ver la forma de la funcion\n",
        "plt.plot(x,f(x))\n"
      ]
    },
    {
      "cell_type": "code",
      "execution_count": 133,
      "metadata": {
        "colab": {
          "base_uri": "https://localhost:8080/"
        },
        "id": "34wMofGk4Pvw",
        "outputId": "e89d5a9d-330a-490c-cc73-4f3e44d43c16"
      },
      "outputs": [
        {
          "data": {
            "text/plain": [
              "(-6.283185307179586, 6)"
            ]
          },
          "execution_count": 133,
          "metadata": {},
          "output_type": "execute_result"
        }
      ],
      "source": [
        "metod_newton(f,derivada_f,-6.0,   0.000000001) #evaluamos los datos en la funcion"
      ]
    },
    {
      "cell_type": "code",
      "execution_count": 128,
      "metadata": {
        "colab": {
          "base_uri": "https://localhost:8080/"
        },
        "id": "l4jwj_725_Ku",
        "outputId": "37482e46-5b1b-497a-8781-922792271166"
      },
      "outputs": [
        {
          "data": {
            "text/plain": [
              "(-6.283185309171678, 26)"
            ]
          },
          "execution_count": 128,
          "metadata": {},
          "output_type": "execute_result"
        }
      ],
      "source": [
        "biseccion(funcion, -6.4,-6.0,   0.000000001)"
      ]
    },
    {
      "cell_type": "code",
      "execution_count": 136,
      "metadata": {
        "id": "gKEWi0QGWfUz"
      },
      "outputs": [],
      "source": [
        "precision=np.array([1, 0.1, 0.01, 0.001, 0.0001, 0.00001, 0.000001, 0.0000001, 0.00000001, 0.000000001]) #un array con los datos de precision"
      ]
    },
    {
      "cell_type": "code",
      "execution_count": 130,
      "metadata": {
        "colab": {
          "base_uri": "https://localhost:8080/",
          "height": 303
        },
        "id": "OFMcnSpnXW0r",
        "outputId": "0fb9e1de-b130-4065-ea2e-5465b59d07ec"
      },
      "outputs": [
        {
          "data": {
            "text/plain": [
              "<matplotlib.legend.Legend at 0x7ff429fc01d0>"
            ]
          },
          "execution_count": 130,
          "metadata": {},
          "output_type": "execute_result"
        },
        {
          "data": {
            "image/png": "[encoded data removed]",
            "text/plain": [
              "<Figure size 432x288 with 1 Axes>"
            ]
          },
          "metadata": {
            "needs_background": "light"
          },
          "output_type": "display_data"
        }
      ],
      "source": [
        "\n",
        "iter_biseccion=np.array([1, 1, 3, 6, 10, 13, 16, 20, 23, 26])\n",
        "iter_newton= np.array([1, 1, 3, 4, 5, 5, 5, 6, 6, 6 ])\n",
        "\n",
        "\n",
        "plt.loglog(precision, iter_biseccion, label='Biseccion')\n",
        "plt.loglog(precision, iter_newton, label='Newton')\n",
        "plt.title('Iteraciones vs precision')\n",
        "plt.legend()"
      ]
    },
    {
      "cell_type": "markdown",
      "metadata": {},
      "source": [
        "# Calificación: 7.0"
      ]
    },
    {
      "cell_type": "markdown",
      "metadata": {},
      "source": [
        "¿Pero qué concluyes del gráfico?"
      ]
    },
    {
      "cell_type": "markdown",
      "metadata": {},
      "source": []
    }
  ],
  "metadata": {
    "colab": {
      "provenance": []
    },
    "kernelspec": {
      "display_name": "Python 3",
      "name": "python3"
    },
    "language_info": {
      "name": "python"
    }
  },
  "nbformat": 4,
  "nbformat_minor": 0
}
