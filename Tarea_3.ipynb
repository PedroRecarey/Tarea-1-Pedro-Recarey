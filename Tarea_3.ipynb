{
  "nbformat": 4,
  "nbformat_minor": 0,
  "metadata": {
    "colab": {
      "provenance": [],
      "toc_visible": true
    },
    "kernelspec": {
      "name": "python3",
      "display_name": "Python 3"
    },
    "language_info": {
      "name": "python"
    }
  },
  "cells": [
    {
      "cell_type": "markdown",
      "source": [
        "#Tarea 3"
      ],
      "metadata": {
        "id": "URn3ZQbs7Jlr"
      }
    },
    {
      "cell_type": "markdown",
      "source": [
        "Grafique la media móvil a 7 días del número de nuevos casos COVID19 en la región de Valparaíso usando los datos puestos arriba. La media móvil a 7 días consiste en que cada punto de la curva contiene el promedio de nuevos casos en los últimos 7 días."
      ],
      "metadata": {
        "id": "iHa4-cqoHZH7"
      }
    },
    {
      "cell_type": "code",
      "execution_count": null,
      "metadata": {
        "id": "Vh5NJCpiG4Zx"
      },
      "outputs": [],
      "source": [
        "casos = [0, 0, 0, 0, 0, 0, 0, 0, 0, 0, 0, 0, 0, 0, 0, 0, 2, 1, 0, 2, 1, 5, 1, 1, 1, 1, 3, 9, 1, 2, 4, 1, 9, 6, 1, \n",
        "         1, 4, 5, 0, 3, 2, 0, 0, 0, 2, 0, 0, 0, 1, 0, 1, 0, 2, 1, 0, 1, 0, 2, 0, 1, 1, 10, 3, 6, 0, 3, 11, 18, 6, \n",
        "         5, 8, 5, 12, 15, 7, 7, 18, 27, 24, 5, 13, 13, 29, 15, 46, 71, 27, 55, 60, 31, 40, 19, 31, 54, 60, 66, 92, \n",
        "         0, 133, 52, 81, 89, 93, 74, 44, 120, 44, 173, 87, 96, 119, 78, 86, 69, 57, 54, 98, 69, 75, 76, 104, 89, \n",
        "         69, 51, 54, 109, 101, 111, 76, 67, 91, 139, 108, 77, 63, 13, 98, 74, 125, 142, 180, 181, 146, 207, 197,\n",
        "        160, 247, 161, 147, 131, 111, 176, 149, 185, 193, 123, 137]"
      ]
    },
    {
      "cell_type": "code",
      "source": [
        "import numpy as np\n",
        "import matplotlib.pyplot as plt"
      ],
      "metadata": {
        "id": "wsDBLuBeHz-D"
      },
      "execution_count": null,
      "outputs": []
    },
    {
      "cell_type": "code",
      "source": [
        "med_casos=[] # se define una lista vacia \n",
        "for semanas in range(1,25):   #se crea un ciclo for con range entre los valores 1 y 24 que equivalen a las semanas de los casos. \n",
        "    med_casos.append(np.mean(casos[:7*semanas])) #el ciclo se basa en tomar 7 datos y sacarles el promedio y asi obtener la media semanal.\n",
        "                                                 # luego los valores se agragan a la lista vacia. \n",
        "     \n",
        "fig = plt.figure() # producimos la figura para el grafico.\n",
        "fig.add_axes()\n",
        "ax = fig.add_subplot(1,1,1)\n",
        "\n",
        "ax.plot(med_casos, color='turquoise', linewidth=3) # creamos el grafico con la variable en cuestion. \n",
        "ax.set_xlabel('Semanas') # se colocan los nombres a los ejes del grafico y el titulo\n",
        "ax.set_ylabel('Media movil')\n",
        "ax.set_title('Media movil de casos covid-19')\n",
        "plt.plot(med_casos) # finalmente se arroja el grafico\n"
      ],
      "metadata": {
        "colab": {
          "base_uri": "https://localhost:8080/",
          "height": 312
        },
        "id": "Qht-gCAUIJwS",
        "outputId": "a46d81ba-3df7-4dfc-ded3-4b3088ce3cee"
      },
      "execution_count": null,
      "outputs": [
        {
          "output_type": "execute_result",
          "data": {
            "text/plain": [
              "[<matplotlib.lines.Line2D at 0x7f4177e91290>]"
            ]
          },
          "metadata": {},
          "execution_count": 23
        },
        {
          "output_type": "display_data",
          "data": {
            "text/plain": [
              "<Figure size 432x288 with 1 Axes>"
            ],
            "image/png": "[encoded data removed]"
          },
          "metadata": {
            "needs_background": "light"
          }
        }
      ]
    }
  ]
}