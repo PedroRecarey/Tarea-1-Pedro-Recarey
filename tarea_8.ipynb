{
  "cells": [
    {
      "cell_type": "markdown",
      "metadata": {
        "id": "Taz9x94SNu67"
      },
      "source": [
        "# Tarea 8.10 Metodos Numericos"
      ]
    },
    {
      "cell_type": "markdown",
      "metadata": {
        "id": "bMt-BlTxNu7B"
      },
      "source": [
        "Considere los siguientes datos que son el resultado de cinco simulaciones muy costosas. Estime la derivada de $n$ respecto a $\\sigma$ así como el error cometido. \n",
        "\n",
        "| $\\sigma$ |          $n$            |\n",
        "|----------|-------------------------|\n",
        "| $0.75$   | $1.1324\\times 10^{-3}$  |\n",
        "| $0.77$   | $1.1376\\times 10^{-3}$  |\n",
        "| $0.79$   | $1.1386\\times 10^{-3}$  |\n",
        "| $0.81$   | $1.1454\\times 10^{-3}$  |\n",
        "| $0.83$   | $1.1474\\times 10^{-3}$  |\n",
        "\n",
        "Para estimar el error use la fórmula de error junto con una expresión a cinco puntos para la tercera derivada. Además considere el error de $n$ ($\\Delta n = 10^{-6}$).\n",
        "\n",
        "Para encontrar una expresión para la tercera derivada use la expansión en Taylor de $f(x_o + h)$, $f(x_o - h)$, $f(x_o + 2h)$ y $f(x_o - 2h)$."
      ]
    },
    {
      "cell_type": "markdown",
      "metadata": {
        "id": "Q1CNo8vVNu7D"
      },
      "source": [
        "## Desarrollo:\n",
        "\n",
        "La expansion en Taylor respecto a $c=x_0$ de las funciones propuestas hasta el sexto termino son las siguientes:\n",
        "\n",
        "$$\n",
        "f(x_0+h) = f(x_0) + hf^{\\prime}(x_0) + \\frac{h^2}{2}f^{\\prime \\prime}(x_0)+\\frac{h^3}{6}f^{(3)}(x_0) + \\frac{h^4}{24}{f^{(4)}(x_0)}+\\frac{h^5}{120}f^{(5)}(\\xi)\n",
        "$$\n",
        "\n",
        "$$\n",
        "f(x_0-h) = f(x_0) - hf^{\\prime}(x_0) + \\frac{h^2}{2}f^{\\prime \\prime}(x_0)-\\frac{h^3}{6}f^{(3)}(x_0) + \\frac{h^4}{24}f^{(4)}(x_0)-\\frac{h^5}{120}f^{(5)}(\\xi)\n",
        "$$\n",
        "\n",
        "$$\n",
        "f(x_0+2h) = f(x_0) + 2hf^{\\prime}(x_0) + \\frac{(2h)^2}{2}f^{\\prime \\prime}(x_0)+\\frac{(2h)^3}{6}f^{(3)}(x_0) + \\frac{(2h)^4}{24}{f^{(4)}(x_0)}+\\frac{(2h)^5}{120}f^{(5)}(\\xi)\n",
        "$$\n",
        "\n",
        "$$\n",
        "f(x_0-2h) = f(x_0) - 2hf^{\\prime}(x_0) + \\frac{(2h)^2}{2}f^{\\prime \\prime}(x_0)-\\frac{(2h)^3}{6}f^{(3)}(x_0) + \\frac{(2h)^4}{f^{(4)}(x_0)}-\\frac{(2h)^5}{120}f^{(5)}(\\xi)\n",
        "$$"
      ]
    },
    {
      "cell_type": "markdown",
      "metadata": {
        "id": "XIJ4uE2PNu7E"
      },
      "source": [
        "Combinando estas expresiones para buscar despejar $f^{(3)}(x_0)$:\n",
        "\n",
        "$$\n",
        "f(x_0+h)-f(x_0-h) = 2hf^{\\prime}(x_0) + \\frac{h^3}{3}f^{(3)}(x_0) + \\frac{h^5}{60}f^{(5)}(\\xi)\n",
        "$$\n",
        "Factorizando por $2h$\n",
        "$$\n",
        "\\frac{1}{2h}\\left[f(x_0+h)-f(x_0-h)\\right] = f^{\\prime}(x_0) + \\frac{h^2}{6}f^{(3)}(x_0) + \\frac{h^4}{120}f^{(5)}(\\xi)\n",
        "$$\n",
        "\n",
        "Se calcula la resta de las otras dos aproximaciones:\n",
        "$$\n",
        "f(x_0+2h)-f(x_0-2h) = 4hf^{\\prime}(x_0) + \\frac{8h^{3}}{3}f^{(3)}(x_0) \\frac{8h^{5}}{15}f^{(5)}(\\xi)\n",
        "$$\n",
        "Y ahora factorizando por $4h$\n",
        "$$\n",
        "\\frac{1}{4h}\\left[ f(x_0+2h) - f(x_0-2h) \\right] = f^{\\prime}(x_0) + \\frac{2h^3}{3}f^{(3)}(x_0) + \\frac{2h^5}{15}f^{(4)}(\\xi)\n",
        "$$\n",
        "Restando ambas expresiones:\n",
        "$$\n",
        "\\left[ (f(x_0+2h) - f(x_0-2h))/(4h) - (f(x_0) + h) - f(x_0-h))/(2h)\\right]\n",
        "$$\n",
        "$$\n",
        "\\frac{1}{4h}\\left[ f(x_0+2h) - f(x_0-2h) - 2(f(x_0 + h) - f(x_0-h)) \\right] = \\left( \\frac{h^2}{6}f^{(3)}(x_0) + \\frac{2h^{3}}{3}f^{(3)}(x_0) \\right) + \\frac{h^4}{8}f^{(5)}(\\xi)\n",
        "$$\n",
        "\n",
        "$$\n",
        "f^{(3)}(x_0) \\approx \\frac{1}{4h^{3}}\\left[ f(x_0+2h) - f(x_0-2h) - 2(f(x_0 + h) - f(x_0 - h)) \\right]\n",
        "$$\n",
        "\n",
        "El error en la tercera derivada va como $h^{4}\\frac{f^{(5)}(x_0)}{4}$. \n",
        "\n",
        "La formula para la primera derivada es la vista en clases:\n",
        "\n",
        "$$\n",
        "f^{\\prime}(x_0) = \\frac{1}{2h}(f(x_0+h) - f(x_0 - h)) + \\frac{h^2}{6}f^{(3)}(\\xi)\n",
        "$$\n",
        "Por lo tanto el error puede aproximarse calculando la 3ra derivada de los datos."
      ]
    },
    {
      "cell_type": "code",
      "execution_count": null,
      "metadata": {
        "id": "pbERvUXmNu7F",
        "outputId": "b25a68e6-d3b3-4aaa-c3b5-4651eef974ec"
      },
      "outputs": [
        {
          "name": "stdout",
          "output_type": "stream",
          "text": [
            "5.7499999999999724e-05\n"
          ]
        }
      ],
      "source": [
        "import numpy as np\n",
        "\n",
        "def deriv3_datos(fxo, fx2, h):\n",
        "    return (fx2 - fxo)/(2*h)\n",
        "\n",
        "def deriv3_borde_datos(fxo, fx1, fx2, h):\n",
        "    return (-3*fxo + 4*fx1 - fx2)/(2*h)\n",
        "\n",
        "def deriv_datos(fx, h):\n",
        "    \n",
        "    n = len(fx)\n",
        "    deriv = np.zeros(n)\n",
        "    for i in range(n):\n",
        "        if i == 0:\n",
        "            deriv[i] = deriv3_borde_datos(fx[0], fx[1], fx[2], h)\n",
        "        elif i == n - 1:\n",
        "            deriv[i] = deriv3_borde_datos(fx[n-1], fx[n-2], fx[n-3], -h)\n",
        "        else:\n",
        "            deriv[i] = deriv3_datos(fx[i-1], fx[i+1], h)\n",
        "    return deriv\n",
        "    return (fx2 - fxo)/(2*h)\n",
        "\n",
        "def tercera_derivada(f1,f2,f3,f4,h):\n",
        "    return (1/(4*h**3))*((f3-f4) - 2*(f1 - f2))\n",
        "\n",
        "sigma = [0.75,0.77,0.79,0.81,0.83]\n",
        "n = [1.1324e-3,1.1376e-3,1.1386e-3,1.1454e-3,1.1474e-3]\n",
        "h = 0.02\n",
        "delta_n = 10**(-6)\n",
        "\n",
        "f3 = tercera_derivada(n[0],n[1],n[2],n[3],h) #Estimacion 3ra derivada\n",
        "deriv = deriv_datos(n,h)\n",
        "error1 = (f3/6)*h**2 #En la formula de primera derivada\n",
        "#El otro error va como delta/h, que es el error de aproximacion\n",
        "error2 = delta_n/h\n",
        "\n",
        "error = error1 + error2\n",
        "print(error)"
      ]
    },
    {
      "cell_type": "markdown",
      "metadata": {},
      "source": [
        "# Calificación: 7.0"
      ]
    },
    {
      "cell_type": "markdown",
      "metadata": {},
      "source": []
    }
  ],
  "metadata": {
    "colab": {
      "provenance": []
    },
    "kernelspec": {
      "display_name": "Python 3",
      "language": "python",
      "name": "python3"
    },
    "language_info": {
      "codemirror_mode": {
        "name": "ipython",
        "version": 3
      },
      "file_extension": ".py",
      "mimetype": "text/x-python",
      "name": "python",
      "nbconvert_exporter": "python",
      "pygments_lexer": "ipython3",
      "version": "3.8.3"
    },
    "toc": {
      "base_numbering": 1,
      "nav_menu": {},
      "number_sections": true,
      "sideBar": true,
      "skip_h1_title": false,
      "title_cell": "Table of Contents",
      "title_sidebar": "Contents",
      "toc_cell": false,
      "toc_position": {},
      "toc_section_display": true,
      "toc_window_display": false
    }
  },
  "nbformat": 4,
  "nbformat_minor": 0
}
