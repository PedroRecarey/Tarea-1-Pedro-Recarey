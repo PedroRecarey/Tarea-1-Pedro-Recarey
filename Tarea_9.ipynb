{
 "cells": [
  {
   "cell_type": "markdown",
   "metadata": {
    "id": "fpZ5S9Kxivia"
   },
   "source": [
    "#Tarea 9.5\n"
   ]
  },
  {
   "cell_type": "markdown",
   "metadata": {
    "id": "cLz4uiOzennE"
   },
   "source": [
    "En clase escribimos un código para el método de Romberg en el cual el usuario debe ingresar el número de filas a calcular. Modifique el código para que el usuario especifique una precisión y el método se detenga cuando sea alcanzada esa precisión. \n",
    "\n",
    "Para estimar el error cometido en el cálculo de una integral se puede comparar el resultado obtenido en una fila dada, con el resultado obtenido en la fila anterior."
   ]
  },
  {
   "cell_type": "code",
   "execution_count": 1,
   "metadata": {
    "id": "p29UIKOEq-wP"
   },
   "outputs": [],
   "source": [
    "import numpy as np "
   ]
  },
  {
   "cell_type": "code",
   "execution_count": 3,
   "metadata": {
    "colab": {
     "base_uri": "https://localhost:8080/"
    },
    "id": "CDbe1WuPq4H2",
    "outputId": "d74dd8ee-afe0-4421-dad8-31ef077cadce"
   },
   "outputs": [
    {
     "name": "stdout",
     "output_type": "stream",
     "text": [
      " indique la precision 10e-4\n"
     ]
    }
   ],
   "source": [
    " # se expandira el codigo de la clase 17 en forma matricial. \n",
    "\n",
    "def print_row(lst):\n",
    "  '''\n",
    "   se define esta funcion para que incorpore los valores en cada fila y \n",
    "   asi tener una comparacion con una precision dada \n",
    "  '''                   \n",
    "  print (' '.join('%11.8f' % x for x in lst))\n",
    "\n",
    "def romberg(f, a, b, epsilon = float(input(' indique la precision '))):   #indicamos el valor de la precisión\n",
    "    R = [[0.5 * (b - a) * (f(a) + f(b))]]  # R[0][0]\n",
    "    print_row(R[0])\n",
    "    n = 1\n",
    "    while True:\n",
    "        h = float(b-a)/2**n\n",
    "        R.append((n+1)*[None])  # se crea una fila vacia para ir agragando los valores \n",
    "        R[n][0] = 0.5*R[n-1][0] + h*sum(f(a+(2*k-1)*h) for k in range(1, 2**(n-1)+1)) \n",
    "        for m in range(1, n+1):\n",
    "            R[n][m] = R[n][m-1] + (R[n][m-1] - R[n-1][m-1]) / (4**m - 1)\n",
    "        print_row(R[n])\n",
    "        if abs(R[n][n-1] - R[n][n]) < epsilon:\n",
    "            return R[n][n]\n",
    "        n += 1\n",
    "\n"
   ]
  },
  {
   "cell_type": "code",
   "execution_count": 4,
   "metadata": {
    "colab": {
     "base_uri": "https://localhost:8080/"
    },
    "id": "OxuNBXCOxlhG",
    "outputId": "3725ac4f-88d9-4a70-ce2f-895ec48ba8a8"
   },
   "outputs": [
    {
     "name": "stdout",
     "output_type": "stream",
     "text": [
      " 0.77015115\n",
      " 0.82386686  0.84177209\n",
      " 0.83708375  0.84148938  0.84147054\n"
     ]
    },
    {
     "data": {
      "text/plain": [
       "0.8414705353607151"
      ]
     },
     "execution_count": 4,
     "metadata": {},
     "output_type": "execute_result"
    }
   ],
   "source": [
    "\n",
    "romberg(np.cos, 0, 1)  # usare la funcion descrita en clase para tomarla como ejemplo, el seno evaluado en 1 deberia ser igual al valor obtenido."
   ]
  },
  {
   "cell_type": "code",
   "execution_count": 5,
   "metadata": {
    "colab": {
     "base_uri": "https://localhost:8080/"
    },
    "id": "M6DnNHGexqo6",
    "outputId": "ad39455d-75de-4ece-8130-a0aade7e9496"
   },
   "outputs": [
    {
     "data": {
      "text/plain": [
       "0.8414709848078965"
      ]
     },
     "execution_count": 5,
     "metadata": {},
     "output_type": "execute_result"
    }
   ],
   "source": [
    "np.sin(1)"
   ]
  },
  {
   "cell_type": "markdown",
   "metadata": {
    "id": "YQm21gQ5zheY"
   },
   "source": [
    "se aprecia que los valores son iguales con la precision dada."
   ]
  },
  {
   "cell_type": "markdown",
   "metadata": {
    "id": "RMifYTnzz4ZO"
   },
   "source": [
    "# Calificacion: 7.0"
   ]
  }
 ],
 "metadata": {
  "colab": {
   "provenance": []
  },
  "kernelspec": {
   "display_name": "Python 3",
   "language": "python",
   "name": "python3"
  },
  "language_info": {
   "codemirror_mode": {
    "name": "ipython",
    "version": 3
   },
   "file_extension": ".py",
   "mimetype": "text/x-python",
   "name": "python",
   "nbconvert_exporter": "python",
   "pygments_lexer": "ipython3",
   "version": "3.8.3"
  },
  "toc": {
   "base_numbering": 1,
   "nav_menu": {},
   "number_sections": true,
   "sideBar": true,
   "skip_h1_title": false,
   "title_cell": "Table of Contents",
   "title_sidebar": "Contents",
   "toc_cell": false,
   "toc_position": {},
   "toc_section_display": true,
   "toc_window_display": false
  }
 },
 "nbformat": 4,
 "nbformat_minor": 1
}
