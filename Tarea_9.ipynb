{
  "nbformat": 4,
  "nbformat_minor": 0,
  "metadata": {
    "colab": {
      "provenance": []
    },
    "kernelspec": {
      "name": "python3",
      "display_name": "Python 3"
    },
    "language_info": {
      "name": "python"
    }
  },
  "cells": [
    {
      "cell_type": "markdown",
      "source": [
        "#Tarea 9.5\n"
      ],
      "metadata": {
        "id": "fpZ5S9Kxivia"
      }
    },
    {
      "cell_type": "markdown",
      "metadata": {
        "id": "cLz4uiOzennE"
      },
      "source": [
        "En clase escribimos un código para el método de Romberg en el cual el usuario debe ingresar el número de filas a calcular. Modifique el código para que el usuario especifique una precisión y el método se detenga cuando sea alcanzada esa precisión. \n",
        "\n",
        "Para estimar el error cometido en el cálculo de una integral se puede comparar el resultado obtenido en una fila dada, con el resultado obtenido en la fila anterior."
      ]
    },
    {
      "cell_type": "code",
      "source": [
        "import numpy as np "
      ],
      "metadata": {
        "id": "p29UIKOEq-wP"
      },
      "execution_count": 11,
      "outputs": []
    },
    {
      "cell_type": "code",
      "source": [
        " # se expandira el codigo de la clase 17 en forma matricial. \n",
        "\n",
        "def print_row(lst):\n",
        "  '''\n",
        "   se define esta funcion para que incorpore los valores en cada fila y \n",
        "   asi tener una comparacion con una precision dada \n",
        "  '''                   \n",
        "  print (' '.join('%11.8f' % x for x in lst))\n",
        "\n",
        "def romberg(f, a, b, epsilon = float(input(' indique la precision '))):   #indicamos el valor de la precisión\n",
        "    R = [[0.5 * (b - a) * (f(a) + f(b))]]  # R[0][0]\n",
        "    print_row(R[0])\n",
        "    n = 1\n",
        "    while True:\n",
        "        h = float(b-a)/2**n\n",
        "        R.append((n+1)*[None])  # se crea una fila vacia para ir agragando los valores \n",
        "        R[n][0] = 0.5*R[n-1][0] + h*sum(f(a+(2*k-1)*h) for k in range(1, 2**(n-1)+1)) \n",
        "        for m in range(1, n+1):\n",
        "            R[n][m] = R[n][m-1] + (R[n][m-1] - R[n-1][m-1]) / (4**m - 1)\n",
        "        print_row(R[n])\n",
        "        if abs(R[n][n-1] - R[n][n]) < epsilon:\n",
        "            return R[n][n]\n",
        "        n += 1\n",
        "\n"
      ],
      "metadata": {
        "colab": {
          "base_uri": "https://localhost:8080/"
        },
        "id": "CDbe1WuPq4H2",
        "outputId": "d74dd8ee-afe0-4421-dad8-31ef077cadce"
      },
      "execution_count": 8,
      "outputs": [
        {
          "name": "stdout",
          "output_type": "stream",
          "text": [
            " indique la precision 0.000001\n"
          ]
        }
      ]
    },
    {
      "cell_type": "code",
      "source": [
        "\n",
        "romberg(np.cos, 0, 1)  # usare la funcion descrita en clase para tomarla como ejemplo, el seno evaluado en 1 deberia ser igual al valor obtenido."
      ],
      "metadata": {
        "colab": {
          "base_uri": "https://localhost:8080/"
        },
        "id": "OxuNBXCOxlhG",
        "outputId": "3725ac4f-88d9-4a70-ce2f-895ec48ba8a8"
      },
      "execution_count": 9,
      "outputs": [
        {
          "output_type": "stream",
          "name": "stdout",
          "text": [
            " 0.77015115\n",
            " 0.82386686  0.84177209\n",
            " 0.83708375  0.84148938  0.84147054\n",
            " 0.84037503  0.84147213  0.84147098  0.84147098\n"
          ]
        },
        {
          "output_type": "execute_result",
          "data": {
            "text/plain": [
              "0.8414709849835893"
            ]
          },
          "metadata": {},
          "execution_count": 9
        }
      ]
    },
    {
      "cell_type": "code",
      "source": [
        "np.sin(1)"
      ],
      "metadata": {
        "colab": {
          "base_uri": "https://localhost:8080/"
        },
        "id": "M6DnNHGexqo6",
        "outputId": "ad39455d-75de-4ece-8130-a0aade7e9496"
      },
      "execution_count": 12,
      "outputs": [
        {
          "output_type": "execute_result",
          "data": {
            "text/plain": [
              "0.8414709848078965"
            ]
          },
          "metadata": {},
          "execution_count": 12
        }
      ]
    },
    {
      "cell_type": "markdown",
      "source": [
        "se aprecia que los valores son iguales con la precision dada."
      ],
      "metadata": {
        "id": "YQm21gQ5zheY"
      }
    },
    {
      "cell_type": "code",
      "source": [],
      "metadata": {
        "id": "RMifYTnzz4ZO"
      },
      "execution_count": null,
      "outputs": []
    }
  ]
}